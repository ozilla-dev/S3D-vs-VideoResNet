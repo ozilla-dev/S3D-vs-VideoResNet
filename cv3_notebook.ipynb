{
 "cells": [
  {
   "cell_type": "markdown",
   "metadata": {},
   "source": [
    "Import packages"
   ]
  },
  {
   "cell_type": "code",
   "execution_count": null,
   "metadata": {},
   "outputs": [],
   "source": [
    "import torch\n",
    "from torch.utils.data import Dataset, DataLoader\n",
    "from torchvision.io import read_image\n",
    "import torchvision.models as models\n",
    "from torchvision.models.video import mc3_18, MC3_18_Weights\n",
    "from torchvision.transforms import Resize, Pad, Normalize, Compose, RandomHorizontalFlip, ColorJitter, RandomRotation, GaussianBlur\n",
    "import os\n",
    "import pandas as pd\n",
    "from tqdm import tqdm\n",
    "import matplotlib.pyplot as plt"
   ]
  },
  {
   "cell_type": "markdown",
   "metadata": {},
   "source": [
    "Install data (only do this if you do not have the dataset installed already)"
   ]
  },
  {
   "cell_type": "code",
   "execution_count": 1,
   "metadata": {},
   "outputs": [
    {
     "name": "stdout",
     "output_type": "stream",
     "text": [
      "--2024-12-02 16:42:58--  https://apigwx-aws.qualcomm.com/qsc/public/v1/api/download/software/dataset/AIDataset/Jester/20bnjester-v1-00\n",
      "Resolving apigwx-aws.qualcomm.com (apigwx-aws.qualcomm.com)... 18.66.147.21, 18.66.147.86, 18.66.147.120, ...\n",
      "Connecting to apigwx-aws.qualcomm.com (apigwx-aws.qualcomm.com)|18.66.147.21|:443... connected.\n",
      "HTTP request sent, awaiting response... 200 OK\n",
      "Length: 10000000000 (9.3G) [binary/octet-stream]\n",
      "Saving to: ‘20bnjester-v1-00.zip’\n",
      "\n",
      "20bnjester-v1-00.zi  71%[=============>      ]   6.62G  18.6MB/s    in 5m 0s   \n",
      "\n",
      "2024-12-02 16:47:59 (22.6 MB/s) - Connection closed at byte 7106814506. Retrying.\n",
      "\n",
      "--2024-12-02 16:48:00--  (try: 2)  https://apigwx-aws.qualcomm.com/qsc/public/v1/api/download/software/dataset/AIDataset/Jester/20bnjester-v1-00\n",
      "Connecting to apigwx-aws.qualcomm.com (apigwx-aws.qualcomm.com)|18.66.147.21|:443... connected.\n",
      "HTTP request sent, awaiting response... 206 Partial Content\n",
      "Length: 10000000000 (9.3G), 2893185494 (2.7G) remaining [binary/octet-stream]\n",
      "Saving to: ‘20bnjester-v1-00.zip’\n",
      "\n",
      "20bnjester-v1-00.zi 100%[++++++++++++++=====>]   9.31G  21.5MB/s    in 2m 20s  \n",
      "\n",
      "2024-12-02 16:50:20 (19.8 MB/s) - ‘20bnjester-v1-00.zip’ saved [10000000000/10000000000]\n",
      "\n",
      "--2024-12-02 16:50:21--  https://apigwx-aws.qualcomm.com/qsc/public/v1/api/download/software/dataset/AIDataset/Jester/20bnjester-v1-01\n",
      "Resolving apigwx-aws.qualcomm.com (apigwx-aws.qualcomm.com)... 18.239.18.6, 18.239.18.34, 18.239.18.16, ...\n",
      "Connecting to apigwx-aws.qualcomm.com (apigwx-aws.qualcomm.com)|18.239.18.6|:443... connected.\n",
      "HTTP request sent, awaiting response... 200 OK\n",
      "Length: 10000000000 (9.3G) [binary/octet-stream]\n",
      "Saving to: ‘20bnjester-v1-01.zip’\n",
      "\n",
      "20bnjester-v1-01.zi  32%[=====>              ]   3.07G  5.35MB/s    in 5m 0s   \n",
      "\n",
      "2024-12-02 16:55:22 (10.5 MB/s) - Connection closed at byte 3294926344. Retrying.\n",
      "\n",
      "--2024-12-02 16:55:23--  (try: 2)  https://apigwx-aws.qualcomm.com/qsc/public/v1/api/download/software/dataset/AIDataset/Jester/20bnjester-v1-01\n",
      "Connecting to apigwx-aws.qualcomm.com (apigwx-aws.qualcomm.com)|18.239.18.6|:443... connected.\n",
      "HTTP request sent, awaiting response... 206 Partial Content\n",
      "Length: 10000000000 (9.3G), 6705073656 (6.2G) remaining [binary/octet-stream]\n",
      "Saving to: ‘20bnjester-v1-01.zip’\n",
      "\n",
      "20bnjester-v1-01.zi  98%[++++++============> ]   9.16G  18.1MB/s    in 5m 0s   \n",
      "\n",
      "2024-12-02 17:00:24 (20.8 MB/s) - Connection closed at byte 9838055558. Retrying.\n",
      "\n",
      "--2024-12-02 17:00:26--  (try: 3)  https://apigwx-aws.qualcomm.com/qsc/public/v1/api/download/software/dataset/AIDataset/Jester/20bnjester-v1-01\n",
      "Connecting to apigwx-aws.qualcomm.com (apigwx-aws.qualcomm.com)|18.239.18.6|:443... connected.\n",
      "HTTP request sent, awaiting response... 206 Partial Content\n",
      "Length: 10000000000 (9.3G), 161944442 (154M) remaining [binary/octet-stream]\n",
      "Saving to: ‘20bnjester-v1-01.zip’\n",
      "\n",
      "20bnjester-v1-01.zi 100%[+++++++++++++++++++>]   9.31G  14.3MB/s    in 12s     \n",
      "\n",
      "2024-12-02 17:00:39 (13.0 MB/s) - ‘20bnjester-v1-01.zip’ saved [10000000000/10000000000]\n",
      "\n",
      "--2024-12-02 17:00:39--  https://apigwx-aws.qualcomm.com/qsc/public/v1/api/download/software/dataset/AIDataset/Jester/20bnjester-v1-02\n",
      "Resolving apigwx-aws.qualcomm.com (apigwx-aws.qualcomm.com)... 18.239.18.111, 18.239.18.6, 18.239.18.16, ...\n",
      "Connecting to apigwx-aws.qualcomm.com (apigwx-aws.qualcomm.com)|18.239.18.111|:443... connected.\n",
      "HTTP request sent, awaiting response... 200 OK\n",
      "Length: 2930724987 (2.7G) [binary/octet-stream]\n",
      "Saving to: ‘20bnjester-v1-02.zip’\n",
      "\n",
      "20bnjester-v1-02.zi 100%[===================>]   2.73G  13.3MB/s    in 2m 27s  \n",
      "\n",
      "2024-12-02 17:03:07 (19.0 MB/s) - ‘20bnjester-v1-02.zip’ saved [2930724987/2930724987]\n",
      "\n"
     ]
    }
   ],
   "source": [
    "!wget -O 20bnjester-v1-00.zip https://apigwx-aws.qualcomm.com/qsc/public/v1/api/download/software/dataset/AIDataset/Jester/20bnjester-v1-00\n",
    "!wget -O 20bnjester-v1-01.zip https://apigwx-aws.qualcomm.com/qsc/public/v1/api/download/software/dataset/AIDataset/Jester/20bnjester-v1-01\n",
    "!wget -O 20bnjester-v1-02.zip https://apigwx-aws.qualcomm.com/qsc/public/v1/api/download/software/dataset/AIDataset/Jester/20bnjester-v1-02"
   ]
  },
  {
   "cell_type": "code",
   "execution_count": 7,
   "metadata": {},
   "outputs": [],
   "source": [
    "!cat 20bnjester-v1-00.zip 20bnjester-v1-01.zip 20bnjester-v1-02.zip | tar zx"
   ]
  },
  {
   "cell_type": "markdown",
   "metadata": {},
   "source": [
    "Initialize the dataset class"
   ]
  },
  {
   "cell_type": "code",
   "execution_count": null,
   "metadata": {},
   "outputs": [],
   "source": [
    "class JesterDataset(Dataset):\n",
    "    def __init__(self, data, data_path, num_frames=30, frame_size=(224, 224), mean=(0.43216, 0.394666, 0.37645), std=(0.22803, 0.22145, 0.216989)):\n",
    "        self.data = data\n",
    "        self.data_path = data_path\n",
    "        self.num_frames = num_frames\n",
    "        self.frame_size = frame_size\n",
    "        self.normalize = Normalize(mean, std)\n",
    "        self.augment = Compose([\n",
    "            RandomHorizontalFlip(),\n",
    "            ColorJitter(brightness=0.2, contrast=0.2, saturation=0.2),\n",
    "            RandomRotation(degrees=15),\n",
    "            GaussianBlur(kernel_size=(3, 3))\n",
    "        ])\n",
    "\n",
    "    def __len__(self):\n",
    "        return len(self.data)\n",
    "    \n",
    "    def __getitem__(self, i):\n",
    "        video_id, label = self.data.iloc[i]\n",
    "        video_folder = os.path.join(self.data_path, str(video_id))\n",
    "        video_tensor = self.load_videos(video_folder)\n",
    "        return video_tensor, label\n",
    "\n",
    "    def resize_and_pad(self, frame):\n",
    "        _, h, w = frame.shape\n",
    "        target_h, target_w = self.frame_size\n",
    "\n",
    "        # determines the new size by resizing one side to 224 and scaling the other size with it while maintaining aspect ratio\n",
    "        if h < w:\n",
    "            new_h = target_h\n",
    "            new_w = int(w * (target_h / h))\n",
    "        else:\n",
    "            new_w = target_w\n",
    "            new_h = int(h * (target_w / w))\n",
    "        \n",
    "        resize_transform = Resize([new_h, new_w], antialias=True)\n",
    "        frame = resize_transform(frame)\n",
    "        \n",
    "        pad_height = target_h - new_h\n",
    "        pad_width = target_w - new_w\n",
    "        pad_top = pad_height // 2\n",
    "        pad_bottom = pad_height - pad_top\n",
    "        pad_left = pad_width // 2\n",
    "        pad_right = pad_width - pad_left\n",
    "\n",
    "        pad_transform = Pad((pad_left, pad_top, pad_right, pad_bottom), fill=0)\n",
    "        frame = pad_transform(frame)\n",
    "        \n",
    "        return frame\n",
    "\n",
    "    def load_videos(self, video_folder):\n",
    "        frames = []\n",
    "        for frame in sorted(os.listdir(video_folder)):\n",
    "            original_frame = read_image(os.path.join(video_folder, frame))\n",
    "            frame = self.resize_and_pad(original_frame)\n",
    "            frame = self.augment(frame)\n",
    "            frame = frame.float() / 255.0\n",
    "            frame = self.normalize(frame)\n",
    "            frames.append(frame)\n",
    "        if len(frames) < self.num_frames:\n",
    "            num_missing_frames = self.num_frames - len(frames)\n",
    "            # take last frame and duplicate it to fill in missing frames\n",
    "            frames.extend([frames[-1]] * num_missing_frames)\n",
    "        elif len(frames) > self.num_frames:\n",
    "            # uniformly choose frames to keep the features\n",
    "            indices = torch.linspace(0, len(frames) - 1, self.num_frames, dtype=int)\n",
    "            frames = [frames[i] for i in indices]\n",
    "        video_tensor = torch.stack(frames).float() # convert to float because of mismatch with pretrained model weights\n",
    "        video_tensor = video_tensor.permute(1, 0, 2, 3)\n",
    "        return video_tensor"
   ]
  },
  {
   "cell_type": "markdown",
   "metadata": {},
   "source": [
    "Initialize all the functions"
   ]
  },
  {
   "cell_type": "code",
   "execution_count": null,
   "metadata": {},
   "outputs": [],
   "source": [
    "def set_seed(seed):\n",
    "    torch.manual_seed(seed)\n",
    "    torch.cuda.manual_seed(seed)\n",
    "    torch.cuda.manual_seed_all(seed)\n",
    "    torch.backends.cudnn.deterministic = True\n",
    "    torch.backends.cudnn.benchmark = False\n",
    "\n",
    "def create_label_encoding(labels_path):\n",
    "    labels_df = pd.read_csv(labels_path, header=None)\n",
    "    label_encoding = {label: idx for idx, label in enumerate(labels_df[0])}\n",
    "    return label_encoding\n",
    "\n",
    "def split_data(labels_path):\n",
    "    label_encoding = create_label_encoding(labels_path)\n",
    "    \n",
    "    train_data = pd.read_csv('jester-v1-train.csv', sep=';', header=None)\n",
    "    test_data = pd.read_csv('jester-v1-validation.csv', sep=';', header=None)\n",
    "\n",
    "    train_data = train_data.sample(frac=0.005, random_state=42)\n",
    "    test_data = test_data.sample(frac=0.05, random_state=42)\n",
    "    val_data = test_data.sample(frac=0.5, random_state=42)\n",
    "    test_data = test_data.drop(val_data.index) # remove validation data from testing data\n",
    "    train_data[1] = train_data[1].map(label_encoding)\n",
    "    val_data[1] = val_data[1].map(label_encoding)\n",
    "    test_data[1] = test_data[1].map(label_encoding)\n",
    "    \n",
    "    return train_data, val_data, test_data\n",
    "\n",
    "def train(model, train_loader, val_loader, criterion, optimizer, num_epochs, device):\n",
    "    train_metrics = []\n",
    "    val_metrics = []\n",
    "    for epoch in range(num_epochs):\n",
    "        model.train()\n",
    "        epoch_loss = 0\n",
    "        correct_predictions = 0\n",
    "        total = 0\n",
    "        train_loader_tqdm = tqdm(train_loader, desc=f\"Epoch {epoch + 1}/{num_epochs}\", leave=False)\n",
    "\n",
    "        for video, label in train_loader_tqdm:\n",
    "            video = video.to(device)\n",
    "            label = label.to(device)\n",
    "            label_pred = model(video)\n",
    "            loss = criterion(label_pred, label)\n",
    "            optimizer.zero_grad()\n",
    "            loss.backward()\n",
    "            optimizer.step()\n",
    "\n",
    "            train_loader_tqdm.set_postfix(loss=loss.item())\n",
    "            epoch_loss += loss.item()\n",
    "\n",
    "            _, predicted_labels = torch.max(label_pred, 1)\n",
    "            correct_predictions += (predicted_labels == label).sum().item()\n",
    "            total += label.size(0)\n",
    "\n",
    "        train_loss = epoch_loss / len(val_loader)\n",
    "        train_accuracy = correct_predictions / total * 100\n",
    "\n",
    "        val_loss, val_accuracy = validate(model, val_loader, criterion, device)\n",
    "        train_metrics.append((train_loss, train_accuracy))\n",
    "        val_metrics.append((val_loss, val_accuracy))\n",
    "        print(f\"\"\"Epoch: {epoch + 1}, Train loss: {train_loss} with accuracy: {train_accuracy}\n",
    "              Validation loss: {val_loss} with accuracy: {val_accuracy}\"\"\")\n",
    "        model.train()\n",
    "\n",
    "        if (epoch + 1) % 2 == 0:\n",
    "            torch.save(model.state_dict(), f'model_{model.__class__.__name__}_{epoch + 1}.pth')\n",
    "\n",
    "    train_losses = [metric[0] for metric in train_metrics]\n",
    "    train_accuracies = [metric[1] for metric in train_metrics]\n",
    "\n",
    "    val_losses = [metric[0] for metric in val_metrics]\n",
    "    val_accuracies = [metric[1] for metric in val_metrics]\n",
    "\n",
    "    epochs = range(1, num_epochs + 1)\n",
    "\n",
    "    plt.figure(figsize=(10, 6))\n",
    "    plt.plot(epochs, train_accuracies, label='Train accuracy', marker='o')\n",
    "    plt.plot(epochs, val_accuracies, label='Validation accuracy', marker='s')\n",
    "    plt.xlabel('Epochs')\n",
    "    plt.ylabel('Accuracy (%)')\n",
    "    plt.legend()\n",
    "    plt.grid(True)\n",
    "    plt.savefig(f\"accuracy_{model.__class__.__name__}.png\")\n",
    "    plt.show()\n",
    "    plt.close()\n",
    "\n",
    "    plt.figure(figsize=(10, 6))\n",
    "    plt.plot(epochs, train_losses, label='Train loss', marker='o')\n",
    "    plt.plot(epochs, val_losses, label='Validation loss', marker='s')\n",
    "    plt.xlabel('Epochs')\n",
    "    plt.ylabel('Loss')\n",
    "    plt.legend()\n",
    "    plt.grid(True)\n",
    "    plt.savefig(f\"loss_{model.__class__.__name__}.png\")\n",
    "    plt.show()\n",
    "    plt.close()\n",
    "\n",
    "def validate(model, val_loader, criterion, device):\n",
    "    model.eval()\n",
    "    with torch.no_grad():\n",
    "        total_loss = 0\n",
    "        correct_predictions = 0\n",
    "        total = 0\n",
    "        for video, label in val_loader:\n",
    "            video = video.to(device)\n",
    "            label = label.to(device)\n",
    "            label_pred = model(video)\n",
    "            loss = criterion(label_pred, label)\n",
    "            total_loss += loss.item()\n",
    "\n",
    "            _, predicted_labels = torch.max(label_pred, 1)\n",
    "            correct_predictions += (predicted_labels == label).sum().item()\n",
    "            total += label.size(0)\n",
    "\n",
    "        avg_loss = total_loss / len(val_loader)\n",
    "        accuracy = correct_predictions / total * 100\n",
    "    return avg_loss, accuracy\n",
    "\n",
    "def test(model, test_loader, criterion, device):\n",
    "    model.eval()\n",
    "    with torch.no_grad():\n",
    "        total_loss = 0\n",
    "        correct_predictions = 0\n",
    "        total = 0\n",
    "        for video, label in test_loader:\n",
    "            video = video.to(device)\n",
    "            label = label.to(device)\n",
    "            label_pred = model(video)\n",
    "            loss = criterion(label_pred, label)\n",
    "            total_loss += loss.item()\n",
    "\n",
    "            _, predicted_labels = torch.max(label_pred, 1)\n",
    "            correct_predictions += (predicted_labels == label).sum().item()\n",
    "            total += label.size(0)\n",
    "        avg_loss = total_loss / len(test_loader)\n",
    "        accuracy = correct_predictions / total * 100\n",
    "    return avg_loss, accuracy"
   ]
  },
  {
   "cell_type": "markdown",
   "metadata": {},
   "source": [
    "Run the training/validation"
   ]
  },
  {
   "cell_type": "code",
   "execution_count": 4,
   "metadata": {},
   "outputs": [
    {
     "name": "stdout",
     "output_type": "stream",
     "text": [
      "Train length: 593\n",
      "Validation length: 370\n",
      "Test length: 369\n",
      "Made the Dataloaders\n"
     ]
    },
    {
     "name": "stderr",
     "output_type": "stream",
     "text": [
      "                                                                        \r"
     ]
    },
    {
     "name": "stdout",
     "output_type": "stream",
     "text": [
      "Epoch: 1, Train loss: 5.319869418298045 with accuracy: 7.251264755480608\n",
      "              Validation loss: 3.2853096223646596 with accuracy: 6.486486486486487\n"
     ]
    },
    {
     "name": "stderr",
     "output_type": "stream",
     "text": [
      "                                                                        \r"
     ]
    },
    {
     "name": "stdout",
     "output_type": "stream",
     "text": [
      "Epoch: 2, Train loss: 5.048208826331682 with accuracy: 9.780775716694773\n",
      "              Validation loss: 3.220777557742211 with accuracy: 7.567567567567568\n"
     ]
    },
    {
     "name": "stderr",
     "output_type": "stream",
     "text": [
      "                                                                        \r"
     ]
    },
    {
     "name": "stdout",
     "output_type": "stream",
     "text": [
      "Epoch: 3, Train loss: 4.747185817328832 with accuracy: 15.008431703204048\n",
      "              Validation loss: 3.201441216212447 with accuracy: 10.0\n"
     ]
    },
    {
     "name": "stderr",
     "output_type": "stream",
     "text": [
      "                                                                        \r"
     ]
    },
    {
     "name": "stdout",
     "output_type": "stream",
     "text": [
      "Epoch: 4, Train loss: 4.48676707154961 with accuracy: 19.898819561551434\n",
      "              Validation loss: 3.046580368472684 with accuracy: 14.864864864864865\n"
     ]
    },
    {
     "name": "stderr",
     "output_type": "stream",
     "text": [
      "                                                                        \r"
     ]
    },
    {
     "name": "stdout",
     "output_type": "stream",
     "text": [
      "Epoch: 5, Train loss: 4.216667491902587 with accuracy: 26.30691399662732\n",
      "              Validation loss: 2.9878463604116954 with accuracy: 11.621621621621623\n"
     ]
    },
    {
     "name": "stderr",
     "output_type": "stream",
     "text": [
      "                                                                        \r"
     ]
    },
    {
     "name": "stdout",
     "output_type": "stream",
     "text": [
      "Epoch: 6, Train loss: 3.8907429005510066 with accuracy: 35.750421585160204\n",
      "              Validation loss: 3.1774194919934837 with accuracy: 12.162162162162163\n"
     ]
    },
    {
     "name": "stderr",
     "output_type": "stream",
     "text": [
      "                                                                        \r"
     ]
    },
    {
     "name": "stdout",
     "output_type": "stream",
     "text": [
      "Epoch: 7, Train loss: 3.573973863355575 with accuracy: 45.86846543001686\n",
      "              Validation loss: 3.173363813789942 with accuracy: 11.351351351351353\n"
     ]
    },
    {
     "name": "stderr",
     "output_type": "stream",
     "text": [
      "                                                                        \r"
     ]
    },
    {
     "name": "stdout",
     "output_type": "stream",
     "text": [
      "Epoch: 8, Train loss: 3.243276426869054 with accuracy: 51.93929173693086\n",
      "              Validation loss: 2.999860537949429 with accuracy: 17.56756756756757\n"
     ]
    },
    {
     "name": "stderr",
     "output_type": "stream",
     "text": [
      "                                                                         \r"
     ]
    },
    {
     "name": "stdout",
     "output_type": "stream",
     "text": [
      "Epoch: 9, Train loss: 2.9067096620477657 with accuracy: 61.551433389544684\n",
      "              Validation loss: 3.023146099941705 with accuracy: 14.324324324324325\n"
     ]
    },
    {
     "name": "stderr",
     "output_type": "stream",
     "text": [
      "                                                                          \r"
     ]
    },
    {
     "name": "stdout",
     "output_type": "stream",
     "text": [
      "Epoch: 10, Train loss: 2.6963450889433584 with accuracy: 67.79089376053963\n",
      "              Validation loss: 2.9665241805456017 with accuracy: 18.10810810810811\n"
     ]
    },
    {
     "data": {
      "image/png": "[encoded data removed]",
      "text/plain": [
       "<Figure size 1000x600 with 1 Axes>"
      ]
     },
     "metadata": {},
     "output_type": "display_data"
    },
    {
     "data": {
      "image/png": "[encoded data removed]",
      "text/plain": [
       "<Figure size 1000x600 with 1 Axes>"
      ]
     },
     "metadata": {},
     "output_type": "display_data"
    }
   ],
   "source": [
    "def main():\n",
    "    seed = 42\n",
    "    set_seed(seed)\n",
    "\n",
    "    data_path = r'20bn-jester-v1'\n",
    "    labels_path = 'jester-v1-labels.csv'\n",
    "\n",
    "    train_data, val_data, test_data = split_data(labels_path)\n",
    "    print(f\"Train length: {len(train_data)}\")\n",
    "    print(f\"Validation length: {len(val_data)}\")\n",
    "    print(f\"Test length: {len(test_data)}\")\n",
    "\n",
    "    train_dataset = JesterDataset(train_data, data_path)\n",
    "    val_dataset = JesterDataset(val_data, data_path)\n",
    "    test_dataset = JesterDataset(test_data, data_path)\n",
    "\n",
    "    batch_size = 4\n",
    "    num_workers = 16\n",
    "    train_loader = DataLoader(train_dataset, batch_size=batch_size, shuffle=True, num_workers=num_workers, pin_memory=True)\n",
    "    val_loader = DataLoader(val_dataset, batch_size=batch_size, shuffle=True, num_workers=num_workers, pin_memory=True)\n",
    "    test_loader = DataLoader(test_dataset, batch_size=batch_size, shuffle=True, num_workers=num_workers, pin_memory=True)\n",
    "    print(\"Made the Dataloaders\")\n",
    "    device = torch.device('cuda' if torch.cuda.is_available() else 'cpu')\n",
    "    model = mc3_18(weights=MC3_18_Weights.DEFAULT)\n",
    "\n",
    "    \n",
    "    output_size = len(set(train_data[1]))\n",
    "    # change the output size of the pretrained model to match the number of classes in my dataset\n",
    "    model.fc = torch.nn.Linear(model.fc.in_features, output_size)\n",
    "    \n",
    "    model = model.to(device)\n",
    "\n",
    "    criterion = torch.nn.CrossEntropyLoss()\n",
    "    optimizer = torch.optim.Adam(model.parameters(), lr=0.0001, weight_decay=1e-3)\n",
    "\n",
    "    num_epochs = 10\n",
    "\n",
    "    train(model, train_loader, val_loader, criterion, optimizer, num_epochs, device)\n",
    "    test(model, test_loader, criterion, device)\n",
    "\n",
    "if __name__ == '__main__':\n",
    "    main()"
   ]
  },
  {
   "cell_type": "code",
   "execution_count": 6,
   "metadata": {},
   "outputs": [
    {
     "name": "stdout",
     "output_type": "stream",
     "text": [
      "Test Loss: 3.0278, Test Accuracy: 16.91%\n"
     ]
    }
   ],
   "source": [
    "seed = 42\n",
    "set_seed(seed)\n",
    "\n",
    "data_path = r'20bn-jester-v1'\n",
    "labels_path = 'jester-v1-labels.csv'\n",
    "\n",
    "label_encoding = create_label_encoding(labels_path)\n",
    "output_size = len(label_encoding)\n",
    "\n",
    "test_data = pd.read_csv('jester-v1-validation.csv', sep=';', header=None)\n",
    "test_data = test_data.sample(frac=0.05, random_state=42)\n",
    "test_data[1] = test_data[1].map(label_encoding)\n",
    "\n",
    "test_dataset = JesterDataset(test_data, data_path)\n",
    "batch_size = 4\n",
    "num_workers = 16\n",
    "test_loader = DataLoader(test_dataset, batch_size=batch_size, shuffle=False, num_workers=num_workers, pin_memory=True)\n",
    "\n",
    "device = torch.device('cuda' if torch.cuda.is_available() else 'cpu')\n",
    "\n",
    "model = mc3_18(weights=None)\n",
    "model.fc = torch.nn.Linear(model.fc.in_features, output_size)\n",
    "model = model.to(device)\n",
    "\n",
    "model.load_state_dict(torch.load('model1_10.pth', map_location=device))\n",
    "\n",
    "criterion = torch.nn.CrossEntropyLoss()\n",
    "\n",
    "test_loss, accuracy = test(model, test_loader, criterion, device)\n",
    "print(f'Test Loss: {test_loss:.4f}, Test Accuracy: {accuracy:.2f}%')\n",
    "\n"
   ]
  },
  {
   "cell_type": "markdown",
   "metadata": {},
   "source": [
    "Model 2"
   ]
  },
  {
   "cell_type": "code",
   "execution_count": null,
   "metadata": {},
   "outputs": [],
   "source": [
    "def split_data(labels_path):\n",
    "    label_encoding = create_label_encoding(labels_path)\n",
    "    \n",
    "    train_data = pd.read_csv('jester-v1-train.csv', sep=';', header=None)\n",
    "    test_data = pd.read_csv('jester-v1-validation.csv', sep=';', header=None)\n",
    "\n",
    "    train_data = train_data.sample(frac=0.030, random_state=42)\n",
    "    test_data = test_data.sample(frac=0.05, random_state=42)\n",
    "    val_data = test_data.sample(frac=0.5, random_state=42)\n",
    "    test_data = test_data.drop(val_data.index) # remove validation data from testing data\n",
    "    train_data[1] = train_data[1].map(label_encoding)\n",
    "    val_data[1] = val_data[1].map(label_encoding)\n",
    "    test_data[1] = test_data[1].map(label_encoding)\n",
    "    \n",
    "    return train_data, val_data, test_data"
   ]
  },
  {
   "cell_type": "code",
   "execution_count": null,
   "metadata": {},
   "outputs": [
    {
     "name": "stdout",
     "output_type": "stream",
     "text": [
      "Train length: 2964\n",
      "Validation length: 370\n",
      "Test length: 369\n",
      "Made the Dataloaders\n"
     ]
    },
    {
     "name": "stderr",
     "output_type": "stream",
     "text": [
      "                                                                        \r"
     ]
    },
    {
     "name": "stdout",
     "output_type": "stream",
     "text": [
      "Epoch: 1, Train loss: 25.115912673293902 with accuracy: 9.412955465587045\n",
      "              Validation loss: 7.216581307431703 with accuracy: 8.378378378378379\n"
     ]
    },
    {
     "name": "stderr",
     "output_type": "stream",
     "text": [
      "                                                                        \r"
     ]
    },
    {
     "name": "stdout",
     "output_type": "stream",
     "text": [
      "Epoch: 2, Train loss: 21.909120171300827 with accuracy: 18.960863697705804\n",
      "              Validation loss: 5.098370288008002 with accuracy: 10.54054054054054\n"
     ]
    },
    {
     "name": "stderr",
     "output_type": "stream",
     "text": [
      "                                                                        \r"
     ]
    },
    {
     "name": "stdout",
     "output_type": "stream",
     "text": [
      "Epoch: 3, Train loss: 19.555314531890296 with accuracy: 27.564102564102566\n",
      "              Validation loss: 2.343823996282393 with accuracy: 28.64864864864865\n"
     ]
    },
    {
     "name": "stderr",
     "output_type": "stream",
     "text": [
      "                                                                         \r"
     ]
    },
    {
     "name": "stdout",
     "output_type": "stream",
     "text": [
      "Epoch: 4, Train loss: 17.774048110490206 with accuracy: 33.502024291497975\n",
      "              Validation loss: 2.673772129320329 with accuracy: 27.297297297297295\n"
     ]
    },
    {
     "name": "stderr",
     "output_type": "stream",
     "text": [
      "                                                                         \r"
     ]
    },
    {
     "name": "stdout",
     "output_type": "stream",
     "text": [
      "Epoch: 5, Train loss: 16.050220144692286 with accuracy: 38.76518218623482\n",
      "              Validation loss: 2.694109188613071 with accuracy: 29.72972972972973\n"
     ]
    },
    {
     "name": "stderr",
     "output_type": "stream",
     "text": [
      "                                                                         \r"
     ]
    },
    {
     "name": "stdout",
     "output_type": "stream",
     "text": [
      "Epoch: 6, Train loss: 15.300576512531567 with accuracy: 42.6450742240216\n",
      "              Validation loss: 2.175433720952721 with accuracy: 35.13513513513514\n"
     ]
    },
    {
     "name": "stderr",
     "output_type": "stream",
     "text": [
      "Epoch 7/10:  65%|██████▍   | 480/741 [02:56<01:34,  2.75it/s, loss=1.99] "
     ]
    }
   ],
   "source": [
    "def main():\n",
    "    seed = 42\n",
    "    set_seed(seed)\n",
    "\n",
    "    data_path = r'20bn-jester-v1'\n",
    "    labels_path = 'jester-v1-labels.csv'\n",
    "\n",
    "    train_data, val_data, test_data = split_data(labels_path)\n",
    "    print(f\"Train length: {len(train_data)}\")\n",
    "    print(f\"Validation length: {len(val_data)}\")\n",
    "    print(f\"Test length: {len(test_data)}\")\n",
    "\n",
    "    train_dataset = JesterDataset(train_data, data_path)\n",
    "    val_dataset = JesterDataset(val_data, data_path)\n",
    "    test_dataset = JesterDataset(test_data, data_path)\n",
    "\n",
    "    batch_size = 4\n",
    "    num_workers = 16\n",
    "    train_loader = DataLoader(train_dataset, batch_size=batch_size, shuffle=True, num_workers=num_workers, pin_memory=True)\n",
    "    val_loader = DataLoader(val_dataset, batch_size=batch_size, shuffle=True, num_workers=num_workers, pin_memory=True)\n",
    "    test_loader = DataLoader(test_dataset, batch_size=batch_size, shuffle=True, num_workers=num_workers, pin_memory=True)\n",
    "    print(\"Made the Dataloaders\")\n",
    "    device = torch.device('cuda' if torch.cuda.is_available() else 'cpu')\n",
    "    model = models.video.s3d(weights=models.video.S3D_Weights.DEFAULT)\n",
    "\n",
    "    \n",
    "    output_size = len(set(train_data[1]))\n",
    "    # change the output size of the pretrained model to match the number of classes in my dataset\n",
    "    model.classifier = torch.nn.Conv3d(\n",
    "        in_channels=1024,  # Feature size from S3D\n",
    "        out_channels=output_size,\n",
    "        kernel_size=(1, 1, 1),\n",
    "        stride=(1, 1, 1)\n",
    "    )\n",
    "    \n",
    "    model = model.to(device)\n",
    "\n",
    "    criterion = torch.nn.CrossEntropyLoss()\n",
    "    optimizer = torch.optim.Adam(model.parameters(), lr=0.0001, weight_decay=1e-3)\n",
    "\n",
    "    num_epochs = 10\n",
    "\n",
    "    train(model, train_loader, val_loader, criterion, optimizer, num_epochs, device)\n",
    "    test(model, test_loader, criterion, device)\n",
    "\n",
    "if __name__ == '__main__':\n",
    "    main()"
   ]
  },
  {
   "cell_type": "code",
   "execution_count": null,
   "metadata": {},
   "outputs": [],
   "source": []
  }
 ],
 "metadata": {
  "kernelspec": {
   "display_name": "CV3",
   "language": "python",
   "name": "python3"
  },
  "language_info": {
   "codemirror_mode": {
    "name": "ipython",
    "version": 3
   },
   "file_extension": ".py",
   "mimetype": "text/x-python",
   "name": "python",
   "nbconvert_exporter": "python",
   "pygments_lexer": "ipython3",
   "version": "3.10.12"
  }
 },
 "nbformat": 4,
 "nbformat_minor": 2
}
